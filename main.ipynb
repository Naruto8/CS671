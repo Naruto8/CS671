{
 "cells": [
  {
   "cell_type": "code",
   "execution_count": 31,
   "metadata": {
    "collapsed": true
   },
   "outputs": [],
   "source": [
    "import sklearn\n",
    "import numpy as np\n",
    "import re\n",
    "from sklearn import svm\n",
    "from sklearn.metrics import accuracy_score\n",
    "from sklearn.feature_extraction.text import CountVectorizer\n",
    "from sklearn.naive_bayes import MultinomialNB\n",
    "from sklearn import metrics\n",
    "from sklearn.linear_model import LogisticRegression\n",
    "from sklearn import svm\n",
    "from sklearn.neural_network import MLPClassifier\n",
    "from sklearn.feature_extraction.text import TfidfVectorizer\n",
    "import nltk\n",
    "import json\n",
    "import os\n",
    "import sys"
   ]
  },
  {
   "cell_type": "code",
   "execution_count": 25,
   "metadata": {
    "collapsed": true
   },
   "outputs": [],
   "source": [
    "squad_dataset = json.load(open('SQuAD/train.json'))"
   ]
  },
  {
   "cell_type": "code",
   "execution_count": 26,
   "metadata": {},
   "outputs": [
    {
     "data": {
      "text/plain": [
       "'Architecturally, the school has a Catholic character. Atop the Main Building\\'s gold dome is a golden statue of the Virgin Mary. Immediately in front of the Main Building and facing it, is a copper statue of Christ with arms upraised with the legend \"Venite Ad Me Omnes\". Next to the Main Building is the Basilica of the Sacred Heart. Immediately behind the basilica is the Grotto, a Marian place of prayer and reflection. It is a replica of the grotto at Lourdes, France where the Virgin Mary reputedly appeared to Saint Bernadette Soubirous in 1858. At the end of the main drive (and in a direct line that connects through 3 statues and the Gold Dome), is a simple, modern stone statue of Mary.'"
      ]
     },
     "execution_count": 26,
     "metadata": {},
     "output_type": "execute_result"
    }
   ],
   "source": [
    "squad_dataset['data'][0]['paragraphs'][0]['context']"
   ]
  },
  {
   "cell_type": "code",
   "execution_count": 27,
   "metadata": {},
   "outputs": [
    {
     "data": {
      "text/plain": [
       "[{'answers': [{'answer_start': 515, 'text': 'Saint Bernadette Soubirous'}],\n",
       "  'id': '5733be284776f41900661182',\n",
       "  'question': 'To whom did the Virgin Mary allegedly appear in 1858 in Lourdes France?'},\n",
       " {'answers': [{'answer_start': 188, 'text': 'a copper statue of Christ'}],\n",
       "  'id': '5733be284776f4190066117f',\n",
       "  'question': 'What is in front of the Notre Dame Main Building?'},\n",
       " {'answers': [{'answer_start': 279, 'text': 'the Main Building'}],\n",
       "  'id': '5733be284776f41900661180',\n",
       "  'question': 'The Basilica of the Sacred heart at Notre Dame is beside to which structure?'},\n",
       " {'answers': [{'answer_start': 381,\n",
       "    'text': 'a Marian place of prayer and reflection'}],\n",
       "  'id': '5733be284776f41900661181',\n",
       "  'question': 'What is the Grotto at Notre Dame?'},\n",
       " {'answers': [{'answer_start': 92,\n",
       "    'text': 'a golden statue of the Virgin Mary'}],\n",
       "  'id': '5733be284776f4190066117e',\n",
       "  'question': 'What sits on top of the Main Building at Notre Dame?'}]"
      ]
     },
     "execution_count": 27,
     "metadata": {},
     "output_type": "execute_result"
    }
   ],
   "source": [
    "squad_dataset['data'][0]['paragraphs'][0]['qas']"
   ]
  },
  {
   "cell_type": "code",
   "execution_count": 30,
   "metadata": {},
   "outputs": [
    {
     "data": {
      "text/plain": [
       "'A'"
      ]
     },
     "execution_count": 30,
     "metadata": {},
     "output_type": "execute_result"
    }
   ],
   "source": [
    "squad_dataset['data'][0]['paragraphs'][0]['context'][0]"
   ]
  },
  {
   "cell_type": "code",
   "execution_count": 32,
   "metadata": {
    "collapsed": true
   },
   "outputs": [],
   "source": [
    "context_file = open(os.path.join('./', 'train.context'), 'w')"
   ]
  },
  {
   "cell_type": "code",
   "execution_count": 33,
   "metadata": {
    "collapsed": true
   },
   "outputs": [],
   "source": [
    "contexts = []\n",
    "for pid in range(len(squad_dataset['data'][0]['paragraphs'])):\n",
    "    context = squad_dataset['data'][0]['paragraphs'][pid]['context']\n",
    "    contexts.append(context)\n",
    "\n",
    "for context in contexts:\n",
    "    context_file.write(context + '\\n')"
   ]
  },
  {
   "cell_type": "code",
   "execution_count": 34,
   "metadata": {
    "collapsed": true
   },
   "outputs": [],
   "source": [
    "context = squad_dataset['data'][0]['paragraphs'][0]['context']"
   ]
  },
  {
   "cell_type": "code",
   "execution_count": 72,
   "metadata": {
    "collapsed": true
   },
   "outputs": [],
   "source": [
    "def tokenize(sequence):\n",
    "    # tokens = [token.replace(\"``\", '\"').replace(\"''\", '\"') for token in nltk.word_tokenize(sequence)]\n",
    "    tokens = nltk.word_tokenize(sequence)\n",
    "    return tokens\n",
    "\n",
    "\n",
    "def token_map(context, context_tokens):\n",
    "    word = ''\n",
    "    current_token_id = 0\n",
    "    token_map = dict()\n",
    "\n",
    "    for cid, c in enumerate(context):\n",
    "        if c != ' ':\n",
    "            word += c\n",
    "            context_token = context_tokens[current_token_id]\n",
    "            if word == context_token:\n",
    "                start = cid - len(word) + 1\n",
    "                token_map[start] = [word, current_token_id]\n",
    "                word = ''\n",
    "                current_token_id += 1\n",
    "    return token_map"
   ]
  },
  {
   "cell_type": "code",
   "execution_count": 98,
   "metadata": {},
   "outputs": [],
   "source": [
    "def get_data(dataset):\n",
    "    with open(os.path.join('./', 'train_context'), 'w') as context_file, \\\n",
    "    open(os.path.join('./', 'train_question'), 'w') as question_file, \\\n",
    "    open(os.path.join('./', 'train_answer'), 'w') as answer_file, \\\n",
    "    open(os.path.join('./', 'train_span'), 'w') as span_file:\n",
    "        for data_id in range(len(dataset['data'])):\n",
    "            data = dataset['data'][data_id]\n",
    "            for para_id in range(len(data['paragraphs'])):\n",
    "                para = data['paragraphs'][para_id]\n",
    "                context = para['context']\n",
    "                qas = para['qas']\n",
    "                for qid in range(len(qas)):\n",
    "                    question = qas[qid]['question']\n",
    "                    answer_text = qas[qid]['answers'][0]['text']\n",
    "                    answer_start = qas[qid]['answers'][0]['answer_start']\n",
    "                    answer_end = answer_start + len(answer_text)\n",
    "                    \n",
    "                    question_file.write(question + '\\n')\n",
    "                    answer_file.write(answer_text + '\\n')\n",
    "                    span_file.write(str(answer_start) + ',' + str(answer_end) + '\\n')\n",
    "                \n",
    "                context_file.write(context + '\\n')"
   ]
  },
  {
   "cell_type": "code",
   "execution_count": 70,
   "metadata": {},
   "outputs": [],
   "source": [
    "ans_map = token_map(context, ctokens)"
   ]
  },
  {
   "cell_type": "code",
   "execution_count": 99,
   "metadata": {},
   "outputs": [],
   "source": [
    "get_data(squad_dataset)"
   ]
  },
  {
   "cell_type": "code",
   "execution_count": null,
   "metadata": {
    "collapsed": true
   },
   "outputs": [],
   "source": []
  }
 ],
 "metadata": {
  "kernelspec": {
   "display_name": "Python 3",
   "language": "python",
   "name": "python3"
  },
  "language_info": {
   "codemirror_mode": {
    "name": "ipython",
    "version": 3
   },
   "file_extension": ".py",
   "mimetype": "text/x-python",
   "name": "python",
   "nbconvert_exporter": "python",
   "pygments_lexer": "ipython3",
   "version": "3.5.4"
  }
 },
 "nbformat": 4,
 "nbformat_minor": 2
}
